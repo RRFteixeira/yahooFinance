{
 "cells": [
  {
   "cell_type": "code",
   "execution_count": null,
   "id": "aca431e2",
   "metadata": {},
   "outputs": [
    {
     "name": "stderr",
     "output_type": "stream",
     "text": [
      "[*********************100%***********************]  1 of 1 completed\n"
     ]
    },
    {
     "data": {
      "text/html": [
       "<div>\n",
       "<style scoped>\n",
       "    .dataframe tbody tr th:only-of-type {\n",
       "        vertical-align: middle;\n",
       "    }\n",
       "\n",
       "    .dataframe tbody tr th {\n",
       "        vertical-align: top;\n",
       "    }\n",
       "\n",
       "    .dataframe thead th {\n",
       "        text-align: right;\n",
       "    }\n",
       "</style>\n",
       "<table border=\"1\" class=\"dataframe\">\n",
       "  <thead>\n",
       "    <tr style=\"text-align: right;\">\n",
       "      <th></th>\n",
       "      <th>Adj Close</th>\n",
       "      <th>Close</th>\n",
       "      <th>High</th>\n",
       "      <th>Low</th>\n",
       "      <th>Open</th>\n",
       "      <th>Volume</th>\n",
       "    </tr>\n",
       "    <tr>\n",
       "      <th>Datetime</th>\n",
       "      <th></th>\n",
       "      <th></th>\n",
       "      <th></th>\n",
       "      <th></th>\n",
       "      <th></th>\n",
       "      <th></th>\n",
       "    </tr>\n",
       "  </thead>\n",
       "  <tbody>\n",
       "    <tr>\n",
       "      <th>2025-09-22 00:00:00+00:00</th>\n",
       "      <td>81300.0</td>\n",
       "      <td>81300.0</td>\n",
       "      <td>81500.0</td>\n",
       "      <td>81100.0</td>\n",
       "      <td>81500.0</td>\n",
       "      <td>0</td>\n",
       "    </tr>\n",
       "    <tr>\n",
       "      <th>2025-09-22 00:01:00+00:00</th>\n",
       "      <td>81800.0</td>\n",
       "      <td>81800.0</td>\n",
       "      <td>81900.0</td>\n",
       "      <td>81300.0</td>\n",
       "      <td>81300.0</td>\n",
       "      <td>469840</td>\n",
       "    </tr>\n",
       "    <tr>\n",
       "      <th>2025-09-22 00:02:00+00:00</th>\n",
       "      <td>82000.0</td>\n",
       "      <td>82000.0</td>\n",
       "      <td>82100.0</td>\n",
       "      <td>81800.0</td>\n",
       "      <td>81900.0</td>\n",
       "      <td>467246</td>\n",
       "    </tr>\n",
       "    <tr>\n",
       "      <th>2025-09-22 00:03:00+00:00</th>\n",
       "      <td>82100.0</td>\n",
       "      <td>82100.0</td>\n",
       "      <td>82200.0</td>\n",
       "      <td>82000.0</td>\n",
       "      <td>82000.0</td>\n",
       "      <td>233693</td>\n",
       "    </tr>\n",
       "    <tr>\n",
       "      <th>2025-09-22 00:04:00+00:00</th>\n",
       "      <td>82100.0</td>\n",
       "      <td>82100.0</td>\n",
       "      <td>82100.0</td>\n",
       "      <td>81900.0</td>\n",
       "      <td>82000.0</td>\n",
       "      <td>222784</td>\n",
       "    </tr>\n",
       "  </tbody>\n",
       "</table>\n",
       "</div>"
      ],
      "text/plain": [
       "                           Adj Close    Close     High      Low     Open  \\\n",
       "Datetime                                                                   \n",
       "2025-09-22 00:00:00+00:00    81300.0  81300.0  81500.0  81100.0  81500.0   \n",
       "2025-09-22 00:01:00+00:00    81800.0  81800.0  81900.0  81300.0  81300.0   \n",
       "2025-09-22 00:02:00+00:00    82000.0  82000.0  82100.0  81800.0  81900.0   \n",
       "2025-09-22 00:03:00+00:00    82100.0  82100.0  82200.0  82000.0  82000.0   \n",
       "2025-09-22 00:04:00+00:00    82100.0  82100.0  82100.0  81900.0  82000.0   \n",
       "\n",
       "                           Volume  \n",
       "Datetime                           \n",
       "2025-09-22 00:00:00+00:00       0  \n",
       "2025-09-22 00:01:00+00:00  469840  \n",
       "2025-09-22 00:02:00+00:00  467246  \n",
       "2025-09-22 00:03:00+00:00  233693  \n",
       "2025-09-22 00:04:00+00:00  222784  "
      ]
     },
     "execution_count": 3,
     "metadata": {},
     "output_type": "execute_result"
    }
   ],
   "source": [
    "import yfinance as yf\n",
    "import pandas as pd\n",
    "\n",
    "data = yf.download(tickers='005930.KS', multi_level_index=False, auto_adjust=False, interval=\"1m\", period=\"7d\")\n",
    "\n",
    "data.head()\n"
   ]
  },
  {
   "cell_type": "code",
   "execution_count": 12,
   "id": "6de57d66",
   "metadata": {},
   "outputs": [
    {
     "name": "stdout",
     "output_type": "stream",
     "text": [
      "Current working dir: c:\\Users\\rodol\\projects\\yahooFinance\\notebooks\n"
     ]
    }
   ],
   "source": [
    "import os\n",
    "print(\"Current working dir:\", os.getcwd())"
   ]
  },
  {
   "cell_type": "code",
   "execution_count": 19,
   "id": "519771e5",
   "metadata": {},
   "outputs": [
    {
     "name": "stdout",
     "output_type": "stream",
     "text": [
      "['PLTR', 'SNOW', 'DDOG', 'MDB', 'AI', 'PANW', 'FTNT', 'CHKP', 'CRWD', 'ZS', 'HO.PA', 'RHM.DE', 'LDO.MI', 'LMT', 'RTX', 'NOC', 'GD', 'BA', 'BAESY', 'SAAB.ST', 'META', 'NFLX', 'TCEHY', 'SPOT', 'SNAP', 'SNPS', 'CDNS', 'SIEGY', 'KEYS', 'ALU.AX', 'PYPL', 'SQ', 'ADYEY', 'V', 'MA', 'AAPL', 'SONY', 'LPL', 'DELL', 'HPQ', '1810.HK', 'ACN', 'IBM', 'CAP.PA', 'INFY', 'TCS.NS', 'WIT', 'HCLTECH.NS', 'CSCO', 'NOK', 'ERIC', 'ANET', '0763.HK', 'NVDA', 'AMD', 'AVGO', 'QCOM', 'TXN', 'TSM', 'INTC', '005930.KS', 'MU', 'GFS', 'ASML', 'AMAT', 'LRCX', 'TOELY', 'KLAC', 'ARM', '0981.HK', 'MRVL', 'MSFT', 'ORCL', 'CRM', 'ADBE', 'SAP', 'NOW', 'AMZN', 'GOOGL', 'BABA', 'TEAM', 'WDAY', 'INTU']\n",
      "83\n"
     ]
    }
   ],
   "source": [
    "import os\n",
    "import json\n",
    "from pathlib import Path\n",
    "\n",
    "file_path = \"c:/Users/rodol/projects/yahooFinance/stocks/\"\n",
    "\n",
    "dir_list = os.listdir(path=file_path)\n",
    "list_tickers = []\n",
    "\n",
    "for dir in dir_list:\n",
    "    ticker_path = file_path + dir\n",
    "    with open(file=ticker_path) as f:\n",
    "        tickers = json.load(fp=f)\n",
    "        ticker_category= file_path.removeprefix('stocks/').removesuffix('.json')\n",
    "        \n",
    "            \n",
    "        for ticker in tickers.keys():\n",
    "            list_tickers.append(ticker)\n",
    "            \n",
    "print(list_tickers)\n",
    "# \n",
    "print(len(list_tickers))"
   ]
  }
 ],
 "metadata": {
  "kernelspec": {
   "display_name": "Python 3",
   "language": "python",
   "name": "python3"
  },
  "language_info": {
   "codemirror_mode": {
    "name": "ipython",
    "version": 3
   },
   "file_extension": ".py",
   "mimetype": "text/x-python",
   "name": "python",
   "nbconvert_exporter": "python",
   "pygments_lexer": "ipython3",
   "version": "3.11.9"
  }
 },
 "nbformat": 4,
 "nbformat_minor": 5
}
